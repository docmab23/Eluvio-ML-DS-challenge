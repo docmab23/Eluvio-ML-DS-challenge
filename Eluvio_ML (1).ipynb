{
  "nbformat": 4,
  "nbformat_minor": 0,
  "metadata": {
    "colab": {
      "name": "Eluvio_ML.ipynb",
      "provenance": [],
      "collapsed_sections": []
    },
    "kernelspec": {
      "display_name": "Python 3",
      "name": "python3"
    },
    "language_info": {
      "name": "python"
    }
  },
  "cells": [
    {
      "cell_type": "code",
      "metadata": {
        "id": "NQL4B75JvaC1"
      },
      "source": [
        "import pandas as pd\n"
      ],
      "execution_count": 3,
      "outputs": []
    },
    {
      "cell_type": "code",
      "metadata": {
        "id": "QGWOd2ckvl9c",
        "colab": {
          "base_uri": "https://localhost:8080/"
        },
        "outputId": "d475feec-2f1e-4c8c-bcc2-164c93db3e8b"
      },
      "source": [
        "import requests\n",
        "from io import StringIO\n",
        "from textblob import TextBlob\n",
        "import nltk \n",
        "from textblob.sentiments import NaiveBayesAnalyzer\n",
        "import matplotlib.pyplot as plt\n",
        "import seaborn as sns\n",
        "nltk.download(\"movie_reviews\")\n",
        "nltk.download(\"punkt\")"
      ],
      "execution_count": 9,
      "outputs": [
        {
          "output_type": "stream",
          "text": [
            "[nltk_data] Downloading package movie_reviews to /root/nltk_data...\n",
            "[nltk_data]   Package movie_reviews is already up-to-date!\n",
            "[nltk_data] Downloading package punkt to /root/nltk_data...\n",
            "[nltk_data]   Unzipping tokenizers/punkt.zip.\n"
          ],
          "name": "stdout"
        },
        {
          "output_type": "execute_result",
          "data": {
            "text/plain": [
              "True"
            ]
          },
          "metadata": {
            "tags": []
          },
          "execution_count": 9
        }
      ]
    },
    {
      "cell_type": "code",
      "metadata": {
        "id": "EAMPCrddxI1q"
      },
      "source": [
        "import pandas as pd\n",
        "\n",
        "url = 'https://drive.google.com/file/d/15X00ZWBjla7qGOIW33j8865QdF89IyAk/view?usp=sharing'\n",
        "path = 'https://drive.google.com/uc?export=download&id='+url.split('/')[-2]\n",
        "df = pd.read_csv(path)"
      ],
      "execution_count": 1,
      "outputs": []
    },
    {
      "cell_type": "code",
      "metadata": {
        "colab": {
          "base_uri": "https://localhost:8080/",
          "height": 204
        },
        "id": "IezMtRG-Nhe-",
        "outputId": "df55d5c1-5ad2-45b8-f963-37714bca1569"
      },
      "source": [
        "df.head()"
      ],
      "execution_count": null,
      "outputs": [
        {
          "output_type": "execute_result",
          "data": {
            "text/html": [
              "<div>\n",
              "<style scoped>\n",
              "    .dataframe tbody tr th:only-of-type {\n",
              "        vertical-align: middle;\n",
              "    }\n",
              "\n",
              "    .dataframe tbody tr th {\n",
              "        vertical-align: top;\n",
              "    }\n",
              "\n",
              "    .dataframe thead th {\n",
              "        text-align: right;\n",
              "    }\n",
              "</style>\n",
              "<table border=\"1\" class=\"dataframe\">\n",
              "  <thead>\n",
              "    <tr style=\"text-align: right;\">\n",
              "      <th></th>\n",
              "      <th>time_created</th>\n",
              "      <th>date_created</th>\n",
              "      <th>up_votes</th>\n",
              "      <th>down_votes</th>\n",
              "      <th>title</th>\n",
              "      <th>over_18</th>\n",
              "      <th>author</th>\n",
              "      <th>category</th>\n",
              "    </tr>\n",
              "  </thead>\n",
              "  <tbody>\n",
              "    <tr>\n",
              "      <th>0</th>\n",
              "      <td>1201232046</td>\n",
              "      <td>2008-01-25</td>\n",
              "      <td>3</td>\n",
              "      <td>0</td>\n",
              "      <td>Scores killed in Pakistan clashes</td>\n",
              "      <td>False</td>\n",
              "      <td>polar</td>\n",
              "      <td>worldnews</td>\n",
              "    </tr>\n",
              "    <tr>\n",
              "      <th>1</th>\n",
              "      <td>1201232075</td>\n",
              "      <td>2008-01-25</td>\n",
              "      <td>2</td>\n",
              "      <td>0</td>\n",
              "      <td>Japan resumes refuelling mission</td>\n",
              "      <td>False</td>\n",
              "      <td>polar</td>\n",
              "      <td>worldnews</td>\n",
              "    </tr>\n",
              "    <tr>\n",
              "      <th>2</th>\n",
              "      <td>1201232523</td>\n",
              "      <td>2008-01-25</td>\n",
              "      <td>3</td>\n",
              "      <td>0</td>\n",
              "      <td>US presses Egypt on Gaza border</td>\n",
              "      <td>False</td>\n",
              "      <td>polar</td>\n",
              "      <td>worldnews</td>\n",
              "    </tr>\n",
              "    <tr>\n",
              "      <th>3</th>\n",
              "      <td>1201233290</td>\n",
              "      <td>2008-01-25</td>\n",
              "      <td>1</td>\n",
              "      <td>0</td>\n",
              "      <td>Jump-start economy: Give health care to all</td>\n",
              "      <td>False</td>\n",
              "      <td>fadi420</td>\n",
              "      <td>worldnews</td>\n",
              "    </tr>\n",
              "    <tr>\n",
              "      <th>4</th>\n",
              "      <td>1201274720</td>\n",
              "      <td>2008-01-25</td>\n",
              "      <td>4</td>\n",
              "      <td>0</td>\n",
              "      <td>Council of Europe bashes EU&amp;UN terror blacklist</td>\n",
              "      <td>False</td>\n",
              "      <td>mhermans</td>\n",
              "      <td>worldnews</td>\n",
              "    </tr>\n",
              "  </tbody>\n",
              "</table>\n",
              "</div>"
            ],
            "text/plain": [
              "   time_created date_created  up_votes  ...  over_18    author   category\n",
              "0    1201232046   2008-01-25         3  ...    False     polar  worldnews\n",
              "1    1201232075   2008-01-25         2  ...    False     polar  worldnews\n",
              "2    1201232523   2008-01-25         3  ...    False     polar  worldnews\n",
              "3    1201233290   2008-01-25         1  ...    False   fadi420  worldnews\n",
              "4    1201274720   2008-01-25         4  ...    False  mhermans  worldnews\n",
              "\n",
              "[5 rows x 8 columns]"
            ]
          },
          "metadata": {
            "tags": []
          },
          "execution_count": 4
        }
      ]
    },
    {
      "cell_type": "code",
      "metadata": {
        "colab": {
          "base_uri": "https://localhost:8080/"
        },
        "id": "XKSDrKAaNzpj",
        "outputId": "cc8373f3-bec0-47a6-d0ce-a12b4da1f08a"
      },
      "source": [
        "df.info(verbose =False , memory_usage='deep')"
      ],
      "execution_count": 4,
      "outputs": [
        {
          "output_type": "stream",
          "text": [
            "<class 'pandas.core.frame.DataFrame'>\n",
            "RangeIndex: 509236 entries, 0 to 509235\n",
            "Columns: 8 entries, time_created to category\n",
            "dtypes: bool(1), int64(3), object(4)\n",
            "memory usage: 186.8 MB\n"
          ],
          "name": "stdout"
        }
      ]
    },
    {
      "cell_type": "code",
      "metadata": {
        "id": "UwEWI-4cZf3C"
      },
      "source": [
        "unique_auths = len(df['author'].unique())\n",
        "upvotes = df['up_votes']"
      ],
      "execution_count": null,
      "outputs": []
    },
    {
      "cell_type": "markdown",
      "metadata": {
        "id": "pzozBDz1cqlL"
      },
      "source": [
        "Since the number down votes are 0 for each row , we will ignore it "
      ]
    },
    {
      "cell_type": "code",
      "metadata": {
        "colab": {
          "base_uri": "https://localhost:8080/"
        },
        "id": "ZuBAtsIbcjd_",
        "outputId": "fc59c98c-dcfd-47ef-debd-5ee26679f080"
      },
      "source": [
        "df['down_votes'].mean()"
      ],
      "execution_count": 3,
      "outputs": [
        {
          "output_type": "execute_result",
          "data": {
            "text/plain": [
              "0.0"
            ]
          },
          "metadata": {
            "tags": []
          },
          "execution_count": 3
        }
      ]
    },
    {
      "cell_type": "code",
      "metadata": {
        "id": "sEhdjU_xZhqT",
        "colab": {
          "base_uri": "https://localhost:8080/",
          "height": 545
        },
        "outputId": "95326b38-5d69-480f-ba21-a2e365366457"
      },
      "source": [
        "\n",
        "plt.boxplot(upvotes , showbox =True , showmeans= True , showfliers= False)\n",
        "plt.title(\"Box_plot of the distribution of Upvotes-Without Outliers\")\n",
        "plt.show()\n",
        "\n",
        "plt.boxplot(upvotes , showbox =True , showmeans =True )\n",
        "plt.title(\"Box plot of the distribution of Upvotes -With Outliers\")\n",
        "plt.show()"
      ],
      "execution_count": null,
      "outputs": [
        {
          "output_type": "display_data",
          "data": {
            "image/png": "[encoded data removed]",
            "text/plain": [
              "<Figure size 432x288 with 1 Axes>"
            ]
          },
          "metadata": {
            "tags": [],
            "needs_background": "light"
          }
        },
        {
          "output_type": "display_data",
          "data": {
            "image/png": "[encoded data removed]",
            "text/plain": [
              "<Figure size 432x288 with 1 Axes>"
            ]
          },
          "metadata": {
            "tags": [],
            "needs_background": "light"
          }
        }
      ]
    },
    {
      "cell_type": "code",
      "metadata": {
        "colab": {
          "base_uri": "https://localhost:8080/",
          "height": 298
        },
        "id": "7bOpOYxXfbdO",
        "outputId": "92f59ea1-009a-4483-ab4c-a767263ce959"
      },
      "source": [
        "df.hist(column='up_votes',bins=50)\n",
        "print(df['up_votes'].max())"
      ],
      "execution_count": 7,
      "outputs": [
        {
          "output_type": "execute_result",
          "data": {
            "text/plain": [
              "21253"
            ]
          },
          "metadata": {
            "tags": []
          },
          "execution_count": 7
        },
        {
          "output_type": "display_data",
          "data": {
            "image/png": "[encoded data removed]",
            "text/plain": [
              "<Figure size 432x288 with 1 Axes>"
            ]
          },
          "metadata": {
            "tags": [],
            "needs_background": "light"
          }
        }
      ]
    },
    {
      "cell_type": "code",
      "metadata": {
        "colab": {
          "base_uri": "https://localhost:8080/",
          "height": 35
        },
        "id": "_OFq85j00u9V",
        "outputId": "91c433eb-da43-466c-821c-563e7b22e967"
      },
      "source": [
        "titles = df['title']\n",
        "titles[178]"
      ],
      "execution_count": null,
      "outputs": [
        {
          "output_type": "execute_result",
          "data": {
            "application/vnd.google.colaboratory.intrinsic+json": {
              "type": "string"
            },
            "text/plain": [
              "'Iraq: The Three Trillion Dollar War'"
            ]
          },
          "metadata": {
            "tags": []
          },
          "execution_count": 6
        }
      ]
    },
    {
      "cell_type": "markdown",
      "metadata": {
        "id": "0LyKrX8td_7z"
      },
      "source": [
        "Now What I intend to do is use the pretrained Sentiment analyzer by Textblob to get the \"Positive trait\" of the headline and use it to predict the number of upvotes .This is based upon a Naive bayes classifier and was taking lot of time to compile and Colab kept on crashing , so I tried this for 1000 inital headlines"
      ]
    },
    {
      "cell_type": "code",
      "metadata": {
        "colab": {
          "base_uri": "https://localhost:8080/"
        },
        "id": "_RxaxQPv0axh",
        "outputId": "2771ee83-e3e4-49cb-87c8-8ea65ed8ca59"
      },
      "source": [
        "pos =191\n",
        "blob = TextBlob(titles[pos], analyzer=NaiveBayesAnalyzer())\n",
        "blob.sentiment"
      ],
      "execution_count": null,
      "outputs": [
        {
          "output_type": "stream",
          "text": [
            "0.00020051002502441406\n"
          ],
          "name": "stdout"
        }
      ]
    },
    {
      "cell_type": "markdown",
      "metadata": {
        "id": "7BqsbIhxd5k8"
      },
      "source": [
        ""
      ]
    },
    {
      "cell_type": "code",
      "metadata": {
        "id": "CxYosOB7hKFR"
      },
      "source": [
        "from textblob import TextBlob\n",
        "from textblob.sentiments import NaiveBayesAnalyzer\n",
        "import pandas as pd\n",
        "#evals = {\"Headline\":[],\"classification\":[],\"pos\":[] , \"neg\": []};\n",
        "res = []\n",
        "count =0\n",
        "for t in titles[0:1000]:\n",
        "  blob = TextBlob(t,analyzer=NaiveBayesAnalyzer())\n",
        "  sentiment =blob.sentiment\n",
        "  res.append(sentiment) \n",
        "  count+=1\n",
        "  print(count) \n",
        "\n",
        "nlp_results1 = pd.DataFrame(res)\n",
        "\n",
        "nlp_results1.to_csv(\"nlp_results1.csv.zip\", \n",
        "           index=False, \n",
        "           compression=\"zip\") # Saved it to nlp_results.csv(present in the repo)\n",
        "           "
      ],
      "execution_count": null,
      "outputs": []
    },
    {
      "cell_type": "code",
      "metadata": {
        "id": "VRNAzTeohcLL"
      },
      "source": [
        "postive_val =nlp_results1[['p_pos']\n",
        "upvotes = df['up_votes'][0:1000]"
      ],
      "execution_count": null,
      "outputs": []
    },
    {
      "cell_type": "code",
      "metadata": {
        "colab": {
          "base_uri": "https://localhost:8080/"
        },
        "id": "rf9czWxq2RUE",
        "outputId": "4ef1043f-3cc8-466c-a7bd-893c93539071"
      },
      "source": [
        "import numpy as np\n",
        "from sklearn.ensemble import RandomForestRegressor\n",
        "from sklearn.model_selection import train_test_split\n",
        "X = postive_val\n",
        "Y = np.array(upvotes)\n",
        "X_train, X_test, y_train, y_test = train_test_split(X, Y, test_size=0.2, random_state=42)\n",
        "\n",
        "'''regr = RandomForestRegressor(max_depth=2, random_state=0)\n",
        "regr.fit(X_train, y_train)\n",
        "#regr.score(X,y)'''\n",
        "data = pd.DataFrame(X_train)\n",
        "#np.reshape(X_train,(-1,1))\n",
        "from sklearn.linear_model import LinearRegression\n",
        "reg = LinearRegression().fit(data, y_train)\n",
        "#reg.score(X_train ,y_train)\n",
        "reg.score(data , y_train)"
      ],
      "execution_count": null,
      "outputs": [
        {
          "output_type": "execute_result",
          "data": {
            "text/plain": [
              "0.003065865414253355"
            ]
          },
          "metadata": {
            "tags": []
          },
          "execution_count": 35
        }
      ]
    },
    {
      "cell_type": "code",
      "metadata": {
        "colab": {
          "base_uri": "https://localhost:8080/"
        },
        "id": "eJQlqABDBrgD",
        "outputId": "9a06e5b4-0219-455e-8e55-56efc6d95c00"
      },
      "source": [
        "regr = RandomForestRegressor(max_depth=2, random_state=0)\n",
        "regr.fit(X_train, y_train)\n",
        "#regr.score(X,y)'''\n",
        "#regr.score(X_test, y_test)\n",
        "preds2 = regr.predict(X_test)\n",
        "#y_test[14]\n",
        "np.corrcoef(preds2 , y_test)"
      ],
      "execution_count": null,
      "outputs": [
        {
          "output_type": "execute_result",
          "data": {
            "text/plain": [
              "array([[1.        , 0.08306429],\n",
              "       [0.08306429, 1.        ]])"
            ]
          },
          "metadata": {
            "tags": []
          },
          "execution_count": 39
        }
      ]
    },
    {
      "cell_type": "code",
      "metadata": {
        "id": "F_B7c-Nw5M2_"
      },
      "source": [
        "np.corrcoef(postive_val,upvotes)"
      ],
      "execution_count": null,
      "outputs": []
    },
    {
      "cell_type": "code",
      "metadata": {
        "id": "ku9fC3OGkSj7"
      },
      "source": [
        "import gensim"
      ],
      "execution_count": null,
      "outputs": []
    },
    {
      "cell_type": "code",
      "metadata": {
        "colab": {
          "base_uri": "https://localhost:8080/"
        },
        "id": "Ge1e2SPHkhTX",
        "outputId": "8aa5bf3c-1128-46e2-814e-9b6b4d95eaef"
      },
      "source": [
        "from gensim.models import KeyedVectors\n",
        "import gensim.downloader as api\n",
        "wv = api.load('word2vec-google-news-300')\n",
        "#Could use Word2vec pretrained model but will train my own this dataset"
      ],
      "execution_count": null,
      "outputs": [
        {
          "output_type": "stream",
          "text": [
            "[--------------------------------------------------] 0.6% 9.3/1662.8MB downloaded"
          ],
          "name": "stdout"
        },
        {
          "output_type": "stream",
          "text": [
            "ERROR:root:Internal Python error in the inspect module.\n",
            "Below is the traceback from this internal error.\n",
            "\n",
            "\n",
            "KeyboardInterrupt\n",
            "\n"
          ],
          "name": "stderr"
        }
      ]
    },
    {
      "cell_type": "markdown",
      "metadata": {
        "id": "7IIVsQFts6SB"
      },
      "source": [
        "Now I will make my own Skip-gram Word Embedding using Gensim"
      ]
    },
    {
      "cell_type": "code",
      "metadata": {
        "id": "L3dzxC1A1BWI"
      },
      "source": [
        "import os\n",
        "import sys\n",
        "import re\n",
        "from gensim.models import Word2Vec\n",
        "from gensim.models.phrases import Phraser, Phrases"
      ],
      "execution_count": 13,
      "outputs": []
    },
    {
      "cell_type": "code",
      "metadata": {
        "id": "lc5CBTY7jokp"
      },
      "source": [
        "all_text = df[\"title\"]\n",
        "import spacy\n",
        "import nltk \n",
        "import nltk\n",
        "tokens = []\n",
        "for k in all_text:\n",
        "   t= nltk.word_tokenize(k)\n",
        "   tokens.append(t)"
      ],
      "execution_count": 10,
      "outputs": []
    },
    {
      "cell_type": "code",
      "metadata": {
        "colab": {
          "base_uri": "https://localhost:8080/"
        },
        "id": "9h831JkqnAkQ",
        "outputId": "2672cf74-ac09-4d85-cb03-79c60f2b7934"
      },
      "source": [
        "tokens[0]"
      ],
      "execution_count": 11,
      "outputs": [
        {
          "output_type": "execute_result",
          "data": {
            "text/plain": [
              "['Scores', 'killed', 'in', 'Pakistan', 'clashes']"
            ]
          },
          "metadata": {
            "tags": []
          },
          "execution_count": 11
        }
      ]
    },
    {
      "cell_type": "code",
      "metadata": {
        "id": "UIBmHEAJjifO"
      },
      "source": [
        "import re\n",
        "sentences = []\n",
        "for ii in range(len(all_text)):\n",
        "    sentences = [re.sub(pattern=r'[\\!\"#$%&\\*+,-./:;<=>?@^_`()|~=]', \n",
        "                        repl='', \n",
        "                        string=x\n",
        "                       ).strip().split(' ') for x in all_text[ii].split('\\n') \n",
        "                      if not x.endswith('writes:')]\n",
        "    sentences = [x for x in sentences if x != ['']]\n",
        "    all_text[ii] = sentences"
      ],
      "execution_count": null,
      "outputs": []
    },
    {
      "cell_type": "code",
      "metadata": {
        "id": "Lf9Ksd1mjtxi"
      },
      "source": [
        "cleansed_text = pd.DataFrame(data = all_text)\n",
        "da = cleansed_text.to_csv(\"cleansed_text.csv\")"
      ],
      "execution_count": null,
      "outputs": []
    },
    {
      "cell_type": "code",
      "metadata": {
        "id": "qkMlBuTJ48_X"
      },
      "source": [
        "text_concat =[]\n",
        "for t in all_text:\n",
        "  text_concat += t\n",
        "  "
      ],
      "execution_count": null,
      "outputs": []
    },
    {
      "cell_type": "code",
      "metadata": {
        "id": "1741JSEW7UbO"
      },
      "source": [
        "common_terms = [\"of\", \"with\", \"without\", \"and\", \"or\", \"the\", \"a\"]\n",
        "# Create the relevant phrases from the list of sentences:\n",
        "phrases = Phrases(all_sentences, common_terms=common_terms)\n",
        "# The Phraser object is used from now on to transform sentences\n",
        "bigram = Phraser(phrases)\n",
        "all_sentences = list(bigram[all_sentences])"
      ],
      "execution_count": null,
      "outputs": []
    },
    {
      "cell_type": "code",
      "metadata": {
        "id": "dsVbrYi5HWWb"
      },
      "source": [
        "model = Word2Vec(all_sentences, \n",
        "                 min_count=2,   \n",
        "                 size=200,      \n",
        "                 workers=2,     \n",
        "                 window=5,      \n",
        "                 iter=20)"
      ],
      "execution_count": null,
      "outputs": []
    },
    {
      "cell_type": "code",
      "metadata": {
        "id": "28mCUF8xJ7yf"
      },
      "source": [
        " model.save(\"word2vec_emb.model\")"
      ],
      "execution_count": null,
      "outputs": []
    },
    {
      "cell_type": "code",
      "metadata": {
        "id": "-m9DyJjBHXl0",
        "colab": {
          "base_uri": "https://localhost:8080/"
        },
        "outputId": "4344cff6-8907-4198-a0a4-893ade44293f"
      },
      "source": [
        "model.most_similar(\"guns\")"
      ],
      "execution_count": null,
      "outputs": [
        {
          "output_type": "stream",
          "text": [
            "/usr/local/lib/python3.7/dist-packages/ipykernel_launcher.py:1: DeprecationWarning: Call to deprecated `most_similar` (Method will be removed in 4.0.0, use self.wv.most_similar() instead).\n",
            "  \"\"\"Entry point for launching an IPython kernel.\n"
          ],
          "name": "stderr"
        },
        {
          "output_type": "execute_result",
          "data": {
            "text/plain": [
              "[('rifles', 0.6949822306632996),\n",
              " ('grenades', 0.681470513343811),\n",
              " ('assault_rifles', 0.6491257548332214),\n",
              " ('bullets', 0.6389783620834351),\n",
              " ('knives', 0.620452880859375),\n",
              " ('ammunition', 0.6035146713256836),\n",
              " ('automatic_weapons', 0.5659435987472534),\n",
              " ('machine_guns', 0.565159261226654),\n",
              " ('gun', 0.5527080297470093),\n",
              " ('cameras', 0.5453432202339172)]"
            ]
          },
          "metadata": {
            "tags": []
          },
          "execution_count": 21
        }
      ]
    },
    {
      "cell_type": "code",
      "metadata": {
        "id": "KxkqbRcjMTYn"
      },
      "source": [
        "vocab = model.wv.vocab\n",
        "vocab_len = len(model.wv.vocab)"
      ],
      "execution_count": null,
      "outputs": []
    },
    {
      "cell_type": "code",
      "metadata": {
        "colab": {
          "base_uri": "https://localhost:8080/"
        },
        "id": "o-86aNxTMcI-",
        "outputId": "65c9061d-c9b9-415f-c873-f21a95fe8869"
      },
      "source": [
        "model.most_similar(\"japan\")"
      ],
      "execution_count": null,
      "outputs": [
        {
          "output_type": "stream",
          "text": [
            "/usr/local/lib/python3.7/dist-packages/ipykernel_launcher.py:1: DeprecationWarning: Call to deprecated `most_similar` (Method will be removed in 4.0.0, use self.wv.most_similar() instead).\n",
            "  \"\"\"Entry point for launching an IPython kernel.\n"
          ],
          "name": "stderr"
        },
        {
          "output_type": "execute_result",
          "data": {
            "text/plain": [
              "[('Japan_Tsunami', 0.684653103351593),\n",
              " ('Japan_tsunami', 0.6425794363021851),\n",
              " ('60magnitude', 0.6363587379455566),\n",
              " ('Honshu_Japan', 0.6308411955833435),\n",
              " ('Samoa', 0.6302562355995178),\n",
              " ('Solomon_Islands', 0.6166073679924011),\n",
              " ('75magnitude', 0.6139359474182129),\n",
              " ('Toowoomba', 0.6137255430221558),\n",
              " ('southern_hemisphere', 0.6113868951797485),\n",
              " ('Kanto', 0.6064375042915344)]"
            ]
          },
          "metadata": {
            "tags": []
          },
          "execution_count": 73
        }
      ]
    },
    {
      "cell_type": "code",
      "metadata": {
        "colab": {
          "base_uri": "https://localhost:8080/"
        },
        "id": "bLruguKrM3r7",
        "outputId": "ee479048-1ea8-4290-b9ff-2a67350462e3"
      },
      "source": [
        "model.predict_output_word(\"To be \")"
      ],
      "execution_count": null,
      "outputs": [
        {
          "output_type": "execute_result",
          "data": {
            "text/plain": [
              "[('World_War', 0.12174945),\n",
              " ('have', 0.008736979),\n",
              " ('got', 0.0056604524),\n",
              " ('Have', 0.005578417),\n",
              " ('missed', 0.0040365485),\n",
              " ('picture', 0.0032372978),\n",
              " ('I_know', 0.0028593857),\n",
              " ('did', 0.0027052774),\n",
              " ('smell', 0.0025204648),\n",
              " ('my', 0.0024354025)]"
            ]
          },
          "metadata": {
            "tags": []
          },
          "execution_count": 31
        }
      ]
    },
    {
      "cell_type": "code",
      "metadata": {
        "id": "gpv4XisZQR0K"
      },
      "source": [
        "model2 = Word2Vec.load(\"word2vec_emb.model\")\n",
        "                       # Load the same model , included in the repo"
      ],
      "execution_count": null,
      "outputs": []
    },
    {
      "cell_type": "code",
      "metadata": {
        "colab": {
          "base_uri": "https://localhost:8080/",
          "height": 319
        },
        "id": "z3Qvv-1DSPUZ",
        "outputId": "9164abfe-be37-4899-8083-c55a26741256"
      },
      "source": [
        "#Visualization of the trained_ Word2Vec model\n",
        "from sklearn.decomposition import PCA\n",
        "from matplotlib import pyplot\n",
        "'''s = [['this', 'is', 'the', 'first', 'sentence', 'for', 'Japan'],\n",
        "\t\t\t['I', 'have', 'to', 'go', 'to' , 'USA'],\n",
        "\t\t\t['They', 'got', 'guns'],\n",
        "\t\t\t['Who', 'is', 'Trump'],\n",
        "\t\t\t['and', 'the', 'final', 'sentence']]'''\n",
        "s = tokens[0:20]\n",
        "\n",
        "model_ = Word2Vec(s, min_count=1)\n",
        "X = model_[model_.wv.vocab]\n",
        "pca = PCA(n_components=2)\n",
        "result = pca.fit_transform(X)\n",
        "pyplot.scatter(result[:, 0], result[:, 1])\n",
        "words = list(model_.wv.vocab)\n",
        "for i, word in enumerate(words):\n",
        "\tpyplot.annotate(word, xy=(result[i, 0], result[i, 1]))\n",
        "pyplot.show()"
      ],
      "execution_count": 17,
      "outputs": [
        {
          "output_type": "stream",
          "text": [
            "/usr/local/lib/python3.7/dist-packages/ipykernel_launcher.py:12: DeprecationWarning: Call to deprecated `__getitem__` (Method will be removed in 4.0.0, use self.wv.__getitem__() instead).\n",
            "  if sys.path[0] == '':\n"
          ],
          "name": "stderr"
        },
        {
          "output_type": "display_data",
          "data": {
            "image/png": "[encoded data removed]",
            "text/plain": [
              "<Figure size 432x288 with 1 Axes>"
            ]
          },
          "metadata": {
            "tags": [],
            "needs_background": "light"
          }
        }
      ]
    },
    {
      "cell_type": "code",
      "metadata": {
        "id": "2wwVGyIS9z5Z"
      },
      "source": [
        "new_df = pd.DataFrame(data = all_text)\n",
        "new_df.to_csv(\"cleaned_text.csv\")"
      ],
      "execution_count": null,
      "outputs": []
    },
    {
      "cell_type": "code",
      "metadata": {
        "id": "-gqyHF6HlXzU"
      },
      "source": [
        "from keras.models import Sequential\n",
        "from keras.layers import Embedding, LSTM, Dense, Dropout"
      ],
      "execution_count": null,
      "outputs": []
    },
    {
      "cell_type": "code",
      "metadata": {
        "id": "Mw0HVyWFjuqa"
      },
      "source": [
        "from tensorflow.keras import Sequential\n",
        "from tensorflow.keras.layers import Dense, Embedding, GlobalAveragePooling1D\n",
        "from tensorflow.keras.layers.experimental.preprocessing import TextVectorization\n",
        "from tensorflow.keras.layers import SpatialDropout1D\n",
        "from tensorflow.keras.callbacks import EarlyStopping\n",
        "from tensorflow.keras.metrics import RootMeanSquaredError"
      ],
      "execution_count": null,
      "outputs": []
    },
    {
      "cell_type": "code",
      "metadata": {
        "id": "4Kw0lCToFLVn"
      },
      "source": [
        "titles= df['title']"
      ],
      "execution_count": 6,
      "outputs": []
    },
    {
      "cell_type": "code",
      "metadata": {
        "id": "CRIs_LTAtP6A"
      },
      "source": [
        "from keras.preprocessing.text import Tokenizer\n",
        "from keras.preprocessing.sequence import pad_sequences\n",
        "#MAX_NB_WORDS = \n",
        "tokenizer = Tokenizer()\n",
        "#tokens =tokenizer.texts_to_sequences(titles)\n",
        "tokens2 =tokenizer.fit_on_texts(titles)"
      ],
      "execution_count": 7,
      "outputs": []
    },
    {
      "cell_type": "code",
      "metadata": {
        "id": "gPS2URd2lPng"
      },
      "source": [
        "X = tokenizer.texts_to_sequences(titles)\n",
        "#X = pad_sequences(X, maxlen=MAX_SEQUENCE_LENGTH)\n",
        "#print('Shape of data tensor:', X.shape)\n",
        "lengths = [len(j) for j in X]\n",
        "MAX_SEQUENCE_LENGTH = max(lengths)\n",
        "MAX_SEQUENCE_LENGTH += 2   # A Simple Addition for safety\n",
        "\n",
        "X = pad_sequences(X, maxlen=MAX_SEQUENCE_LENGTH)\n",
        "print('Shape of data tensor:', X.shape)"
      ],
      "execution_count": null,
      "outputs": []
    },
    {
      "cell_type": "code",
      "metadata": {
        "id": "G7ZXQ9XdlyL8"
      },
      "source": [
        "from sklearn.model_selection import train_test_split\n",
        "Y = df['up_votes']\n",
        "X_train, X_test, Y_train, Y_test = train_test_split(X,Y, test_size = 0.10)\n"
      ],
      "execution_count": null,
      "outputs": []
    },
    {
      "cell_type": "code",
      "metadata": {
        "id": "vQ5lw5X3uKAZ"
      },
      "source": [
        "#dd = tokenizer.texts_to_matrix(titles[0:10000])"
      ],
      "execution_count": 8,
      "outputs": []
    },
    {
      "cell_type": "code",
      "metadata": {
        "id": "GbIVL81-r-5I"
      },
      "source": [
        "Y = df['up_votes'][0:10000]"
      ],
      "execution_count": 9,
      "outputs": []
    },
    {
      "cell_type": "markdown",
      "metadata": {
        "id": "mrdJVvZql6s7"
      },
      "source": [
        ""
      ]
    },
    {
      "cell_type": "code",
      "metadata": {
        "colab": {
          "base_uri": "https://localhost:8080/"
        },
        "id": "CoOFTyxZKfal",
        "outputId": "77eed8ed-401c-4413-9fcd-f9c4c510c410"
      },
      "source": [
        "model = Sequential()\n",
        "model.add(Embedding(vocab_len,200,input_length=X.shape[1]))\n",
        "model.add(SpatialDropout1D(0.2))\n",
        "model.add(LSTM(100, dropout=0.2, recurrent_dropout=0.2))\n",
        "#model.add(LSTM(100, dropout=0.2, recurrent_dropout=0.2))\n",
        "model.add(Dense(50, activation='softmax'))\n",
        "model.add(Dense(1, activation='linear'))\n",
        "model.compile(loss='mean_squared_error', optimizer='adam',metrics=[\"mae\", \"acc\"])\n",
        "\n",
        "epochs = 5\n",
        "batch_size = 32\n",
        "\n",
        "model.fit(X_train, Y_train, epochs=epochs, batch_size=batch_size,validation_split=0.1,callbacks=[EarlyStopping(monitor='val_loss', patience=3, min_delta=0.0001)])"
      ],
      "execution_count": null,
      "outputs": [
        {
          "output_type": "stream",
          "text": [
            "WARNING:tensorflow:Layer lstm will not use cuDNN kernel since it doesn't meet the cuDNN kernel criteria. It will use generic GPU kernel as fallback when running on GPU\n",
            "Epoch 1/5\n",
            "12890/12890 [==============================] - 2434s 188ms/step - loss: 313242.0184 - mae: 113.0842 - acc: 0.0959 - val_loss: 274769.8125 - val_mae: 111.6321 - val_acc: 0.0897\n",
            "Epoch 2/5\n",
            "12890/12890 [==============================] - 2425s 188ms/step - loss: 308008.3027 - mae: 120.4651 - acc: 0.0924 - val_loss: 272054.3750 - val_mae: 122.2172 - val_acc: 0.0897\n",
            "Epoch 3/5\n",
            "12890/12890 [==============================] - 2435s 189ms/step - loss: 301362.1226 - mae: 129.3780 - acc: 0.0922 - val_loss: 270123.5312 - val_mae: 132.8480 - val_acc: 0.0897\n",
            "Epoch 4/5\n",
            "12890/12890 [==============================] - 2440s 189ms/step - loss: 302624.7825 - mae: 141.5240 - acc: 0.0923 - val_loss: 268843.0312 - val_mae: 142.3271 - val_acc: 0.0897\n",
            "Epoch 5/5\n",
            "12890/12890 [==============================] - 2453s 190ms/step - loss: 299316.4094 - mae: 149.4760 - acc: 0.0916 - val_loss: 268023.2188 - val_mae: 150.4585 - val_acc: 0.0897\n"
          ],
          "name": "stdout"
        },
        {
          "output_type": "execute_result",
          "data": {
            "text/plain": [
              "<tensorflow.python.keras.callbacks.History at 0x7f54b37a9d50>"
            ]
          },
          "metadata": {
            "tags": []
          },
          "execution_count": 18
        }
      ]
    },
    {
      "cell_type": "markdown",
      "metadata": {
        "id": "QuZuu1OZRTQ6"
      },
      "source": [
        ""
      ]
    },
    {
      "cell_type": "code",
      "metadata": {
        "id": "JqyV-FEZcOEF"
      },
      "source": [
        "model.save(\"nlp_model.h5\")"
      ],
      "execution_count": null,
      "outputs": []
    },
    {
      "cell_type": "code",
      "metadata": {
        "colab": {
          "base_uri": "https://localhost:8080/"
        },
        "id": "H_8u782vzdPN",
        "outputId": "b86a072d-7305-4421-e190-4fd05b2b5131"
      },
      "source": [
        "from tensorflow import keras\n",
        "model_loaded = keras.models.load_model('nlp_model.h5')"
      ],
      "execution_count": null,
      "outputs": [
        {
          "output_type": "stream",
          "text": [
            "WARNING:tensorflow:Layer lstm will not use cuDNN kernel since it doesn't meet the cuDNN kernel criteria. It will use generic GPU kernel as fallback when running on GPU\n"
          ],
          "name": "stdout"
        }
      ]
    },
    {
      "cell_type": "code",
      "metadata": {
        "id": "oD_xc_fVn483"
      },
      "source": [
        "weights_list = model.get_weights()"
      ],
      "execution_count": null,
      "outputs": []
    },
    {
      "cell_type": "code",
      "metadata": {
        "id": "kQbxjXSkogi9"
      },
      "source": [
        "emb_layer = weights_list[0]"
      ],
      "execution_count": null,
      "outputs": []
    },
    {
      "cell_type": "code",
      "metadata": {
        "id": "Ia1JfCvto-jq"
      },
      "source": [
        "import numpy as np\n",
        "preds = model.predict(X_test)\n",
        "RootMeanSquaredError(preds , Y_test)"
      ],
      "execution_count": null,
      "outputs": []
    },
    {
      "cell_type": "markdown",
      "metadata": {
        "id": "8JXF7GyqtPAs"
      },
      "source": [
        "The LSTM based model didn't perform well at all, I have used another approach in another notebook"
      ]
    },
    {
      "cell_type": "code",
      "metadata": {
        "id": "4GbspG65tXmO"
      },
      "source": [
        ""
      ],
      "execution_count": null,
      "outputs": []
    }
  ]
}